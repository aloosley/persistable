{
 "cells": [
  {
   "cell_type": "markdown",
   "metadata": {},
   "source": [
    "# Introduction:\n",
    "\n",
    "This material has been used in the past to teach colleagues in our group how to use persistable.\n",
    "\n",
    "The `persistable` package provides users an interface to create a parameterized persistable payload that automatically persists and loads based on the parameters provided.  That means, the payload parameters and are used to define unique artifacts that can be reloaded so complex calculations never have to be repeated.\n",
    "\n",
    "All you need to do is define:\n",
    "1. How the payload is generated\n",
    "2. The parameters\n",
    "3. A working directory (can be local or cloud) for where artifacts should be persisted\n",
    "\n",
    "\n",
    "For more details, read the [docs](https://github.com/DataReply/persistable)."
   ]
  },
  {
   "cell_type": "markdown",
   "metadata": {},
   "source": [
    "# Examples\n",
    "## Gaussian Distributed Dataset\n",
    "### Define `Persistable` class\n",
    "In this example, let's say that our persisted object is generated from a random number generator"
   ]
  },
  {
   "cell_type": "code",
   "execution_count": 1,
   "metadata": {
    "ExecuteTime": {
     "end_time": "2022-07-13T17:11:44.535674Z",
     "start_time": "2022-07-13T17:11:44.388815Z"
    }
   },
   "outputs": [],
   "source": [
    "from dataclasses import dataclass\n",
    "from persistable import PersistableParams\n",
    "\n",
    "\n",
    "@dataclass\n",
    "class GaussianDistributedPointsParams(PersistableParams):\n",
    "    \"\"\" Params for GaussianDistributedPoints.\n",
    "    \n",
    "    Parameters:\n",
    "        n (int): number of gaussian distributed points.\n",
    "        random_state (int): random_state for generator.\n",
    "    \"\"\"\n",
    "    \n",
    "    n: int\n",
    "    random_state: int = 100\n",
    "\n",
    "\n",
    "from persistable import Persistable\n",
    "from numpy.typing import NDArray\n",
    "import numpy as np\n",
    "from typing import Any\n",
    "\n",
    "\n",
    "class GaussianDistributedPoints(Persistable[NDArray[np.float64], GaussianDistributedPointsParams]):\n",
    "    \"\"\" Persistable payload of Gaussian distributed points.\n",
    "    \n",
    "    \"\"\"\n",
    "\n",
    "    def _generate_payload(self, **untracked_payload_params: Any) -> NDArray[np.float64]:\n",
    "        np.random.seed(self.params.random_state)\n",
    "        return np.random.random(self.params.n)\n"
   ]
  },
  {
   "cell_type": "markdown",
   "metadata": {},
   "source": [
    "### Instantiate and Generate+Persist Payload"
   ]
  },
  {
   "cell_type": "code",
   "execution_count": 2,
   "metadata": {
    "ExecuteTime": {
     "end_time": "2022-07-13T17:11:45.671069Z",
     "start_time": "2022-07-13T17:11:45.621845Z"
    }
   },
   "outputs": [
    {
     "name": "stdout",
     "output_type": "stream",
     "text": [
      "2022-07-13 19:11:45,627 - gaussian_distributed_points - __init__ - INFO - ---- NEW PERSISTABLE SESSION ---- (/Users/aloosley/Alex/Repos/persistable/examples/example-data)\n",
      "2022-07-13 19:11:45,630 - gaussian_distributed_points - __init__ - INFO - Payload named gaussian_distributed_points; Parameters set to GaussianDistributedPointsParams(n=100, random_state=10)\n",
      "2022-07-13 19:11:45,632 - gaussian_distributed_points - generate - INFO - Now generating gaussian_distributed_points payload...\n"
     ]
    },
    {
     "data": {
      "text/plain": [
       "0.771320643266746"
      ]
     },
     "execution_count": 2,
     "metadata": {},
     "output_type": "execute_result"
    }
   ],
   "source": [
    "from pathlib import Path\n",
    "\n",
    "data_dir = Path('.').absolute() / \"example-data\"\n",
    "params = GaussianDistributedPointsParams(n=100, random_state=10)\n",
    "\n",
    "p_gaussian_distributed_points = GaussianDistributedPoints(\n",
    "    data_dir=data_dir,\n",
    "    params=params,\n",
    "    verbose=True\n",
    ")\n",
    "p_gaussian_distributed_points.generate(persist=True)\n",
    "p_gaussian_distributed_points.payload[0]"
   ]
  },
  {
   "cell_type": "markdown",
   "metadata": {},
   "source": [
    "### Check payload was persisted"
   ]
  },
  {
   "cell_type": "code",
   "execution_count": 3,
   "metadata": {
    "ExecuteTime": {
     "end_time": "2022-07-13T17:11:46.034259Z",
     "start_time": "2022-07-13T17:11:46.021268Z"
    }
   },
   "outputs": [
    {
     "data": {
      "text/plain": [
       "[PosixPath('/Users/aloosley/Alex/Repos/persistable/examples/example-data/252716002f49672d2d04557fa94c2804.persistable'),\n",
       " PosixPath('/Users/aloosley/Alex/Repos/persistable/examples/example-data/7b82e45b8774903fdd7d63c36e8b67c9.params.json'),\n",
       " PosixPath('/Users/aloosley/Alex/Repos/persistable/examples/example-data/gauss_dist.log'),\n",
       " PosixPath('/Users/aloosley/Alex/Repos/persistable/examples/example-data/7b82e45b8774903fdd7d63c36e8b67c9.persistable'),\n",
       " PosixPath('/Users/aloosley/Alex/Repos/persistable/examples/example-data/252716002f49672d2d04557fa94c2804.params.json'),\n",
       " PosixPath('/Users/aloosley/Alex/Repos/persistable/examples/example-data/252716002f49672d2d04557fa94c2804.pkl'),\n",
       " PosixPath('/Users/aloosley/Alex/Repos/persistable/examples/example-data/gaussian_distributed_points.log')]"
      ]
     },
     "execution_count": 3,
     "metadata": {},
     "output_type": "execute_result"
    }
   ],
   "source": [
    "list(p_gaussian_distributed_points.persist_filepath.parent.glob(\"*\"))"
   ]
  },
  {
   "cell_type": "markdown",
   "metadata": {},
   "source": [
    "### Load payload"
   ]
  },
  {
   "cell_type": "code",
   "execution_count": 4,
   "metadata": {
    "ExecuteTime": {
     "end_time": "2022-07-13T17:11:46.341468Z",
     "start_time": "2022-07-13T17:11:46.313004Z"
    }
   },
   "outputs": [
    {
     "name": "stdout",
     "output_type": "stream",
     "text": [
      "2022-07-13 19:11:46,319 - gaussian_distributed_points - __init__ - INFO - ---- NEW PERSISTABLE SESSION ---- (/Users/aloosley/Alex/Repos/persistable/examples/example-data)\n",
      "2022-07-13 19:11:46,330 - gaussian_distributed_points - __init__ - INFO - Payload named gaussian_distributed_points; Parameters set to GaussianDistributedPointsParams(n=100, random_state=10)\n",
      "2022-07-13 19:11:46,334 - gaussian_distributed_points - load - INFO - Now loading gaussian_distributed_points payload...\n"
     ]
    },
    {
     "data": {
      "text/plain": [
       "array([0.77132064, 0.02075195, 0.63364823])"
      ]
     },
     "execution_count": 4,
     "metadata": {},
     "output_type": "execute_result"
    }
   ],
   "source": [
    "p_gaussian_distributed_points_2 = GaussianDistributedPoints(\n",
    "    data_dir=data_dir,\n",
    "    params=params,\n",
    "    verbose=True\n",
    ")\n",
    "p_gaussian_distributed_points_2.load()\n",
    "p_gaussian_distributed_points_2.payload[:3]"
   ]
  },
  {
   "cell_type": "markdown",
   "metadata": {},
   "source": [
    "## Outlier Detection Model"
   ]
  },
  {
   "cell_type": "markdown",
   "metadata": {},
   "source": [
    "### Define `Persistable` class"
   ]
  },
  {
   "cell_type": "code",
   "execution_count": 17,
   "metadata": {
    "ExecuteTime": {
     "end_time": "2022-07-13T17:15:38.758023Z",
     "start_time": "2022-07-13T17:15:38.744939Z"
    }
   },
   "outputs": [],
   "source": [
    "@dataclass\n",
    "class OutlierEstimatorParams(PersistableParams):\n",
    "    \"\"\" Params for OutlierEstimator.\n",
    "    \n",
    "    Parameters:\n",
    "        z_threshold (float): number of standard deviations from the mean for which to consider a point an outlier.\n",
    "    \"\"\"\n",
    "    \n",
    "    z_threshold: int\n",
    "\n",
    "        \n",
    "\n",
    "from typing import Optional, Any, List\n",
    "\n",
    "\n",
    "class OutlierEstimator:\n",
    "    def __init__(z_threshold: float) -> None:\n",
    "        self.z_threshold = z_threshold\n",
    "        \n",
    "        self._mean = Optional[float]\n",
    "        self._stdev = Optional[float]\n",
    "    \n",
    "    def fit(data: NDArray[np.float64]) -> None:\n",
    "        self._mean = np.mean(data)\n",
    "        self._stdev = np.std(data)\n",
    "        \n",
    "    def transform(data: NDArray[np.float64]) -> NDArray[np.float64]:\n",
    "        return np.abs((data - self._mean) / self._stdev) > self.z_threshold\n",
    "        \n",
    "        \n",
    "        \n",
    "class OutlierEstimatorPersistable(Persistable[OutlierEstimator, OutlierEstimatorParams]):\n",
    "    \"\"\" Persistable payload of Gaussian distributed points.\n",
    "    \n",
    "    \"\"\"\n",
    "    def __init__(\n",
    "        data_dir: Path,\n",
    "        params: OutlierEstimatorParams,\n",
    "        *,\n",
    "        fit_data_persistable: GaussianDistributedPoints,\n",
    "    ) -> None:\n",
    "        super().__init__(data_dir, params, verbose=True)\n",
    "        self.fit_data_persistable = fit_data_persistable\n",
    "        \n",
    "    @property\n",
    "    def from_persistble_objs() -> List[Persistable[Any, Any]]:\n",
    "        return [self.fit_data_persistable]\n",
    "\n",
    "    def _generate_payload(self, **untracked_payload_params: Any) -> OutlierEstimator:\n",
    "        outlier_estimator = OutlierEstimator(z_threshold = self.params.z_threshold)\n",
    "        outlier_estimator.fit(self.fit_data_persistable.payload)"
   ]
  },
  {
   "cell_type": "code",
   "execution_count": 18,
   "metadata": {
    "ExecuteTime": {
     "end_time": "2022-07-13T17:15:40.557838Z",
     "start_time": "2022-07-13T17:15:40.526571Z"
    }
   },
   "outputs": [
    {
     "ename": "TypeError",
     "evalue": "OutlierEstimatorPersistable.__init__() got multiple values for argument 'data_dir'",
     "output_type": "error",
     "traceback": [
      "\u001b[0;31m---------------------------------------------------------------------------\u001b[0m",
      "\u001b[0;31mTypeError\u001b[0m                                 Traceback (most recent call last)",
      "Input \u001b[0;32mIn [18]\u001b[0m, in \u001b[0;36m<cell line: 3>\u001b[0;34m()\u001b[0m\n\u001b[1;32m      1\u001b[0m data_dir_ \u001b[38;5;241m=\u001b[39m data_dir\n\u001b[1;32m      2\u001b[0m outlier_estimator_params \u001b[38;5;241m=\u001b[39m OutlierEstimatorParams(z_threshold\u001b[38;5;241m=\u001b[39m\u001b[38;5;241m1\u001b[39m)\n\u001b[0;32m----> 3\u001b[0m outlier_estimator_p \u001b[38;5;241m=\u001b[39m \u001b[43mOutlierEstimatorPersistable\u001b[49m\u001b[43m(\u001b[49m\n\u001b[1;32m      4\u001b[0m \u001b[43m    \u001b[49m\u001b[43mdata_dir\u001b[49m\u001b[38;5;241;43m=\u001b[39;49m\u001b[43mdata_dir_\u001b[49m\u001b[43m,\u001b[49m\n\u001b[1;32m      5\u001b[0m \u001b[43m    \u001b[49m\u001b[43mparams\u001b[49m\u001b[38;5;241;43m=\u001b[39;49m\u001b[43moutlier_estimator_params\u001b[49m\u001b[43m,\u001b[49m\n\u001b[1;32m      6\u001b[0m \u001b[43m    \u001b[49m\u001b[43mfit_data_persistable\u001b[49m\u001b[38;5;241;43m=\u001b[39;49m\u001b[43mp_gaussian_distributed_points\u001b[49m\n\u001b[1;32m      7\u001b[0m \u001b[43m)\u001b[49m\n",
      "\u001b[0;31mTypeError\u001b[0m: OutlierEstimatorPersistable.__init__() got multiple values for argument 'data_dir'"
     ]
    }
   ],
   "source": [
    "data_dir_ = data_dir\n",
    "outlier_estimator_params = OutlierEstimatorParams(z_threshold=1)\n",
    "outlier_estimator_p = OutlierEstimatorPersistable(\n",
    "    data_dir=data_dir_,\n",
    "    params=outlier_estimator_params,\n",
    "    fit_data_persistable=p_gaussian_distributed_points\n",
    ")"
   ]
  },
  {
   "cell_type": "code",
   "execution_count": null,
   "metadata": {},
   "outputs": [],
   "source": []
  }
 ],
 "metadata": {
  "kernelspec": {
   "display_name": "Python 3.10 (persistable)",
   "language": "python",
   "name": "persistable"
  },
  "language_info": {
   "codemirror_mode": {
    "name": "ipython",
    "version": 3
   },
   "file_extension": ".py",
   "mimetype": "text/x-python",
   "name": "python",
   "nbconvert_exporter": "python",
   "pygments_lexer": "ipython3",
   "version": "3.10.4"
  },
  "latex_envs": {
   "LaTeX_envs_menu_present": true,
   "bibliofile": "biblio.bib",
   "cite_by": "apalike",
   "current_citInitial": 1,
   "eqLabelWithNumbers": true,
   "eqNumInitial": 1,
   "labels_anchors": false,
   "latex_user_defs": false,
   "report_style_numbering": false,
   "user_envs_cfg": false
  },
  "toc": {
   "base_numbering": 1,
   "nav_menu": {
    "height": "119px",
    "width": "253px"
   },
   "number_sections": true,
   "sideBar": true,
   "skip_h1_title": false,
   "title_cell": "Table of Contents",
   "title_sidebar": "Contents",
   "toc_cell": false,
   "toc_position": {
    "height": "calc(100% - 180px)",
    "left": "10px",
    "top": "150px",
    "width": "288px"
   },
   "toc_section_display": "block",
   "toc_window_display": true
  },
  "varInspector": {
   "cols": {
    "lenName": 16,
    "lenType": 16,
    "lenVar": 40
   },
   "kernels_config": {
    "python": {
     "delete_cmd_postfix": "",
     "delete_cmd_prefix": "del ",
     "library": "var_list.py",
     "varRefreshCmd": "print(var_dic_list())"
    },
    "r": {
     "delete_cmd_postfix": ") ",
     "delete_cmd_prefix": "rm(",
     "library": "var_list.r",
     "varRefreshCmd": "cat(var_dic_list()) "
    }
   },
   "types_to_exclude": [
    "module",
    "function",
    "builtin_function_or_method",
    "instance",
    "_Feature"
   ],
   "window_display": false
  }
 },
 "nbformat": 4,
 "nbformat_minor": 2
}
