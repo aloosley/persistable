{
 "cells": [
  {
   "cell_type": "markdown",
   "metadata": {},
   "source": [
    "# Introduction:\n",
    "\n",
    "This material has been used in the past to teach colleagues in our group how to use persistable.\n",
    "\n",
    "The `persistable` package provides users an interface to create a parameterized persistable payload that automatically persists and loads based on the parameters provided.  That means, the payload parameters and are used to define unique artifacts that can be reloaded so complex calculations never have to be repeated.\n",
    "\n",
    "All you need to do is define:\n",
    "1. How the payload is generated\n",
    "2. The parameters\n",
    "3. A working directory (can be local or cloud) for where artifacts should be persisted\n",
    "\n",
    "\n",
    "For more details, read the [docs](https://github.com/DataReply/persistable)."
   ]
  },
  {
   "cell_type": "markdown",
   "metadata": {},
   "source": [
    "# Examples\n",
    "## Gaussian Distributed Dataset\n",
    "### Define `Persistable` class\n",
    "In this example, let's say that our persisted object is generated from a random number generator"
   ]
  },
  {
   "cell_type": "code",
   "execution_count": 1,
   "metadata": {
    "ExecuteTime": {
     "end_time": "2022-07-18T13:28:25.669304Z",
     "start_time": "2022-07-18T13:28:25.493066Z"
    }
   },
   "outputs": [],
   "source": [
    "from dataclasses import dataclass\n",
    "from persistable import PersistableParams\n",
    "\n",
    "\n",
    "@dataclass\n",
    "class GaussianDistributedPointsParams(PersistableParams):\n",
    "    \"\"\" Params for GaussianDistributedPoints.\n",
    "    \n",
    "    Parameters:\n",
    "        n (int): number of gaussian distributed points.\n",
    "        random_state (int): random_state for generator.\n",
    "    \"\"\"\n",
    "    \n",
    "    n: int\n",
    "    random_state: int = 100\n",
    "\n",
    "\n",
    "from persistable import Persistable\n",
    "from numpy.typing import NDArray\n",
    "import numpy as np\n",
    "from typing import Any\n",
    "\n",
    "\n",
    "class GaussianDistributedPointsP(Persistable[NDArray[np.float64], GaussianDistributedPointsParams]):\n",
    "    \"\"\" Persistable payload of Gaussian distributed points.\n",
    "    \n",
    "    \"\"\"\n",
    "\n",
    "    def _generate_payload(self, **untracked_payload_params: Any) -> NDArray[np.float64]:\n",
    "        np.random.seed(self.params.random_state)\n",
    "        return np.random.random(self.params.n)\n"
   ]
  },
  {
   "cell_type": "markdown",
   "metadata": {},
   "source": [
    "### Instantiate and load/generate+persist payload"
   ]
  },
  {
   "cell_type": "code",
   "execution_count": 9,
   "metadata": {
    "ExecuteTime": {
     "end_time": "2022-07-18T13:29:32.486515Z",
     "start_time": "2022-07-18T13:29:32.466519Z"
    }
   },
   "outputs": [
    {
     "name": "stdout",
     "output_type": "stream",
     "text": [
      "2022-07-18 15:29:32,470 - gaussian_distributed_points_p - __init__ - INFO - ---- NEW PERSISTABLE SESSION ---- (/Users/aloosley/Alex/Repos/persistable/examples/example-data)\n",
      "2022-07-18 15:29:32,473 - gaussian_distributed_points_p - __init__ - INFO - Payload named gaussian_distributed_points_p; Parameters set to GaussianDistributedPointsParams(n=100, random_state=10)\n",
      "2022-07-18 15:29:32,477 - gaussian_distributed_points_p - generate - INFO - Now generating gaussian_distributed_points_p payload...\n"
     ]
    },
    {
     "data": {
      "text/plain": [
       "array([0.77132064, 0.02075195, 0.63364823])"
      ]
     },
     "execution_count": 9,
     "metadata": {},
     "output_type": "execute_result"
    }
   ],
   "source": [
    "from pathlib import Path\n",
    "\n",
    "data_dir = Path('.').absolute() / \"example-data\"\n",
    "params = GaussianDistributedPointsParams(n=100, random_state=10)\n",
    "\n",
    "gaussian_distributed_points_p = GaussianDistributedPointsP(\n",
    "    data_dir=data_dir,\n",
    "    params=params,\n",
    "    tracked_persistable_dependencies=None,\n",
    "    verbose=True\n",
    ")\n",
    "gaussian_distributed_points_p.generate(persist=True)\n",
    "gaussian_distributed_points_p.payload[:3]"
   ]
  },
  {
   "cell_type": "markdown",
   "metadata": {},
   "source": [
    "### Check payload was persisted"
   ]
  },
  {
   "cell_type": "code",
   "execution_count": 6,
   "metadata": {
    "ExecuteTime": {
     "end_time": "2022-07-18T13:28:56.647264Z",
     "start_time": "2022-07-18T13:28:56.621882Z"
    }
   },
   "outputs": [
    {
     "data": {
      "text/plain": [
       "[PosixPath('/Users/aloosley/Alex/Repos/persistable/examples/example-data/252716002f49672d2d04557fa94c2804.persistable'),\n",
       " PosixPath('/Users/aloosley/Alex/Repos/persistable/examples/example-data/9d1957bebd1697670064d11818140a26.persistable'),\n",
       " PosixPath('/Users/aloosley/Alex/Repos/persistable/examples/example-data/7b82e45b8774903fdd7d63c36e8b67c9.params.json'),\n",
       " PosixPath('/Users/aloosley/Alex/Repos/persistable/examples/example-data/gauss_dist.log'),\n",
       " PosixPath('/Users/aloosley/Alex/Repos/persistable/examples/example-data/7b82e45b8774903fdd7d63c36e8b67c9.persistable'),\n",
       " PosixPath('/Users/aloosley/Alex/Repos/persistable/examples/example-data/gaussian_distributed_points_p.log'),\n",
       " PosixPath('/Users/aloosley/Alex/Repos/persistable/examples/example-data/9d1957bebd1697670064d11818140a26.params.json'),\n",
       " PosixPath('/Users/aloosley/Alex/Repos/persistable/examples/example-data/outlier_estimator_persistable.log'),\n",
       " PosixPath('/Users/aloosley/Alex/Repos/persistable/examples/example-data/252716002f49672d2d04557fa94c2804.params.json'),\n",
       " PosixPath('/Users/aloosley/Alex/Repos/persistable/examples/example-data/252716002f49672d2d04557fa94c2804.pkl'),\n",
       " PosixPath('/Users/aloosley/Alex/Repos/persistable/examples/example-data/gaussian_distributed_points.log')]"
      ]
     },
     "execution_count": 6,
     "metadata": {},
     "output_type": "execute_result"
    }
   ],
   "source": [
    "list(gaussian_distributed_points_p.persist_filepath.parent.glob(\"*\"))"
   ]
  },
  {
   "cell_type": "markdown",
   "metadata": {},
   "source": [
    "### Load payload"
   ]
  },
  {
   "cell_type": "code",
   "execution_count": 8,
   "metadata": {
    "ExecuteTime": {
     "end_time": "2022-07-18T13:29:19.773579Z",
     "start_time": "2022-07-18T13:29:19.737269Z"
    }
   },
   "outputs": [
    {
     "name": "stdout",
     "output_type": "stream",
     "text": [
      "2022-07-18 15:29:19,739 - gaussian_distributed_points_p - __init__ - INFO - ---- NEW PERSISTABLE SESSION ---- (/Users/aloosley/Alex/Repos/persistable/examples/example-data)\n",
      "2022-07-18 15:29:19,751 - gaussian_distributed_points_p - __init__ - INFO - Payload named gaussian_distributed_points_p; Parameters set to GaussianDistributedPointsParams(n=100, random_state=10)\n",
      "2022-07-18 15:29:19,753 - gaussian_distributed_points_p - load - INFO - Now loading gaussian_distributed_points_p payload...\n"
     ]
    },
    {
     "data": {
      "text/plain": [
       "array([0.77132064, 0.02075195, 0.63364823])"
      ]
     },
     "execution_count": 8,
     "metadata": {},
     "output_type": "execute_result"
    }
   ],
   "source": [
    "gaussian_distributed_points_p_2 = GaussianDistributedPointsP(\n",
    "    data_dir=data_dir,\n",
    "    params=params,\n",
    "    tracked_persistable_dependencies=None,\n",
    "    verbose=True\n",
    ")\n",
    "gaussian_distributed_points_p_2.load()\n",
    "gaussian_distributed_points_p_2.payload[:3]"
   ]
  },
  {
   "cell_type": "markdown",
   "metadata": {},
   "source": [
    "## Outlier Detection Model"
   ]
  },
  {
   "cell_type": "markdown",
   "metadata": {},
   "source": [
    "### Define `Persistable` class"
   ]
  },
  {
   "cell_type": "code",
   "execution_count": 10,
   "metadata": {
    "ExecuteTime": {
     "end_time": "2022-07-18T13:31:13.013510Z",
     "start_time": "2022-07-18T13:31:12.960468Z"
    }
   },
   "outputs": [
    {
     "ename": "NameError",
     "evalue": "name 'GaussianDistributedPoints' is not defined",
     "output_type": "error",
     "traceback": [
      "\u001b[0;31m---------------------------------------------------------------------------\u001b[0m",
      "\u001b[0;31mNameError\u001b[0m                                 Traceback (most recent call last)",
      "Input \u001b[0;32mIn [10]\u001b[0m, in \u001b[0;36m<cell line: 32>\u001b[0;34m()\u001b[0m\n\u001b[1;32m     27\u001b[0m     \u001b[38;5;28;01mdef\u001b[39;00m \u001b[38;5;21mtransform\u001b[39m(\u001b[38;5;28mself\u001b[39m, data: NDArray[np\u001b[38;5;241m.\u001b[39mfloat64]) \u001b[38;5;241m-\u001b[39m\u001b[38;5;241m>\u001b[39m NDArray[np\u001b[38;5;241m.\u001b[39mfloat64]:\n\u001b[1;32m     28\u001b[0m         \u001b[38;5;28;01mreturn\u001b[39;00m np\u001b[38;5;241m.\u001b[39mabs((data \u001b[38;5;241m-\u001b[39m \u001b[38;5;28mself\u001b[39m\u001b[38;5;241m.\u001b[39m_mean) \u001b[38;5;241m/\u001b[39m \u001b[38;5;28mself\u001b[39m\u001b[38;5;241m.\u001b[39m_stdev) \u001b[38;5;241m>\u001b[39m \u001b[38;5;28mself\u001b[39m\u001b[38;5;241m.\u001b[39mz_threshold\n\u001b[0;32m---> 32\u001b[0m \u001b[38;5;28;01mclass\u001b[39;00m \u001b[38;5;21;01mOutlierEstimatorPersistableP\u001b[39;00m(Persistable[OutlierEstimator, OutlierEstimatorParams]):\n\u001b[1;32m     33\u001b[0m     \u001b[38;5;124;03m\"\"\" Persistable payload of Gaussian distributed points.\u001b[39;00m\n\u001b[1;32m     34\u001b[0m \u001b[38;5;124;03m    \u001b[39;00m\n\u001b[1;32m     35\u001b[0m \u001b[38;5;124;03m    \"\"\"\u001b[39;00m\n\u001b[1;32m     36\u001b[0m     \u001b[38;5;28;01mdef\u001b[39;00m \u001b[38;5;21m__init__\u001b[39m(\n\u001b[1;32m     37\u001b[0m         \u001b[38;5;28mself\u001b[39m,\n\u001b[1;32m     38\u001b[0m         data_dir: Path,\n\u001b[0;32m   (...)\u001b[0m\n\u001b[1;32m     41\u001b[0m         data_points_p: GaussianDistributedPoints,\n\u001b[1;32m     42\u001b[0m     ) \u001b[38;5;241m-\u001b[39m\u001b[38;5;241m>\u001b[39m \u001b[38;5;28;01mNone\u001b[39;00m:\n",
      "Input \u001b[0;32mIn [10]\u001b[0m, in \u001b[0;36mOutlierEstimatorPersistableP\u001b[0;34m()\u001b[0m\n\u001b[1;32m     32\u001b[0m \u001b[38;5;28;01mclass\u001b[39;00m \u001b[38;5;21;01mOutlierEstimatorPersistableP\u001b[39;00m(Persistable[OutlierEstimator, OutlierEstimatorParams]):\n\u001b[1;32m     33\u001b[0m     \u001b[38;5;124;03m\"\"\" Persistable payload of Gaussian distributed points.\u001b[39;00m\n\u001b[1;32m     34\u001b[0m \u001b[38;5;124;03m    \u001b[39;00m\n\u001b[1;32m     35\u001b[0m \u001b[38;5;124;03m    \"\"\"\u001b[39;00m\n\u001b[1;32m     36\u001b[0m     \u001b[38;5;28;01mdef\u001b[39;00m \u001b[38;5;21m__init__\u001b[39m(\n\u001b[1;32m     37\u001b[0m         \u001b[38;5;28mself\u001b[39m,\n\u001b[1;32m     38\u001b[0m         data_dir: Path,\n\u001b[1;32m     39\u001b[0m         params: OutlierEstimatorParams,\n\u001b[1;32m     40\u001b[0m         \u001b[38;5;241m*\u001b[39m,\n\u001b[0;32m---> 41\u001b[0m         data_points_p: \u001b[43mGaussianDistributedPoints\u001b[49m,\n\u001b[1;32m     42\u001b[0m     ) \u001b[38;5;241m-\u001b[39m\u001b[38;5;241m>\u001b[39m \u001b[38;5;28;01mNone\u001b[39;00m:\n\u001b[1;32m     43\u001b[0m         \u001b[38;5;28msuper\u001b[39m()\u001b[38;5;241m.\u001b[39m\u001b[38;5;21m__init__\u001b[39m(data_dir, params, tracked_persistable_dependencies\u001b[38;5;241m=\u001b[39m[data_points_p], verbose\u001b[38;5;241m=\u001b[39m\u001b[38;5;28;01mTrue\u001b[39;00m)\n\u001b[1;32m     44\u001b[0m         \u001b[38;5;28mself\u001b[39m\u001b[38;5;241m.\u001b[39mdata_points \u001b[38;5;241m=\u001b[39m data_points\n",
      "\u001b[0;31mNameError\u001b[0m: name 'GaussianDistributedPoints' is not defined"
     ]
    }
   ],
   "source": [
    "@dataclass\n",
    "class OutlierEstimatorParams(PersistableParams):\n",
    "    \"\"\" Params for OutlierEstimator.\n",
    "    \n",
    "    Parameters:\n",
    "        z_threshold (float): number of standard deviations from the mean for which to consider a point an outlier.\n",
    "    \"\"\"\n",
    "    \n",
    "    z_threshold: int\n",
    "\n",
    "        \n",
    "\n",
    "from typing import Optional, Any, List\n",
    "\n",
    "\n",
    "class OutlierEstimator:\n",
    "    def __init__(self, z_threshold: float) -> None:\n",
    "        self.z_threshold = z_threshold\n",
    "        \n",
    "        self._mean = Optional[float]\n",
    "        self._stdev = Optional[float]\n",
    "    \n",
    "    def fit(self, data: NDArray[np.float64]) -> None:\n",
    "        self._mean = np.mean(data)\n",
    "        self._stdev = np.std(data)\n",
    "        \n",
    "    def transform(self, data: NDArray[np.float64]) -> NDArray[np.float64]:\n",
    "        return np.abs((data - self._mean) / self._stdev) > self.z_threshold\n",
    "        \n",
    "        \n",
    "        \n",
    "class OutlierEstimatorPersistableP(Persistable[OutlierEstimator, OutlierEstimatorParams]):\n",
    "    \"\"\" Persistable payload of Gaussian distributed points.\n",
    "    \n",
    "    \"\"\"\n",
    "    def __init__(\n",
    "        self,\n",
    "        data_dir: Path,\n",
    "        params: OutlierEstimatorParams,\n",
    "        *,\n",
    "        data_points_p: GaussianDistributedPoints,\n",
    "    ) -> None:\n",
    "        super().__init__(data_dir, params, tracked_persistable_dependencies=[data_points_p], verbose=True)\n",
    "        self.data_points = data_points\n",
    "\n",
    "    def _generate_payload(self, **untracked_payload_params: Any) -> OutlierEstimator:\n",
    "        outlier_estimator = OutlierEstimator(z_threshold = self.params.z_threshold)\n",
    "        outlier_estimator.fit(self.data_points.payload)\n",
    "        \n",
    "        return outlier_estimator"
   ]
  },
  {
   "cell_type": "markdown",
   "metadata": {},
   "source": [
    "## Instiate and load/generate+persist"
   ]
  },
  {
   "cell_type": "code",
   "execution_count": 11,
   "metadata": {
    "ExecuteTime": {
     "end_time": "2022-07-18T13:04:41.074200Z",
     "start_time": "2022-07-18T13:04:41.058434Z"
    }
   },
   "outputs": [
    {
     "name": "stdout",
     "output_type": "stream",
     "text": [
      "2022-07-18 15:04:41,063 - outlier_estimator_persistable - __init__ - INFO - ---- NEW PERSISTABLE SESSION ---- (/Users/aloosley/Alex/Repos/persistable/examples/example-data)\n",
      "2022-07-18 15:04:41,066 - outlier_estimator_persistable - __init__ - INFO - Payload named outlier_estimator_persistable; Parameters set to OutlierEstimatorParams(z_threshold=1)\n",
      "2022-07-18 15:04:41,068 - outlier_estimator_persistable - load - INFO - Now loading outlier_estimator_persistable payload...\n"
     ]
    }
   ],
   "source": [
    "outlier_estimator_params = OutlierEstimatorParams(z_threshold=1)\n",
    "outlier_estimator_p = OutlierEstimatorPersistable(\n",
    "    data_dir=data_dir, \n",
    "    params=outlier_estimator_params, \n",
    "    data_points=p_gaussian_distributed_points,\n",
    ")\n",
    "outlier_estimator_p.load_generate()"
   ]
  }
 ],
 "metadata": {
  "kernelspec": {
   "display_name": "Python 3.10 (persistable)",
   "language": "python",
   "name": "persistable"
  },
  "language_info": {
   "codemirror_mode": {
    "name": "ipython",
    "version": 3
   },
   "file_extension": ".py",
   "mimetype": "text/x-python",
   "name": "python",
   "nbconvert_exporter": "python",
   "pygments_lexer": "ipython3",
   "version": "3.10.4"
  },
  "latex_envs": {
   "LaTeX_envs_menu_present": true,
   "bibliofile": "biblio.bib",
   "cite_by": "apalike",
   "current_citInitial": 1,
   "eqLabelWithNumbers": true,
   "eqNumInitial": 1,
   "labels_anchors": false,
   "latex_user_defs": false,
   "report_style_numbering": false,
   "user_envs_cfg": false
  },
  "toc": {
   "base_numbering": 1,
   "nav_menu": {
    "height": "119px",
    "width": "253px"
   },
   "number_sections": true,
   "sideBar": true,
   "skip_h1_title": false,
   "title_cell": "Table of Contents",
   "title_sidebar": "Contents",
   "toc_cell": false,
   "toc_position": {
    "height": "calc(100% - 180px)",
    "left": "10px",
    "top": "150px",
    "width": "288px"
   },
   "toc_section_display": "block",
   "toc_window_display": true
  },
  "varInspector": {
   "cols": {
    "lenName": 16,
    "lenType": 16,
    "lenVar": 40
   },
   "kernels_config": {
    "python": {
     "delete_cmd_postfix": "",
     "delete_cmd_prefix": "del ",
     "library": "var_list.py",
     "varRefreshCmd": "print(var_dic_list())"
    },
    "r": {
     "delete_cmd_postfix": ") ",
     "delete_cmd_prefix": "rm(",
     "library": "var_list.r",
     "varRefreshCmd": "cat(var_dic_list()) "
    }
   },
   "types_to_exclude": [
    "module",
    "function",
    "builtin_function_or_method",
    "instance",
    "_Feature"
   ],
   "window_display": false
  }
 },
 "nbformat": 4,
 "nbformat_minor": 2
}
