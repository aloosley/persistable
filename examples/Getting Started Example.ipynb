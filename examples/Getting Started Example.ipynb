{
 "cells": [
  {
   "cell_type": "markdown",
   "metadata": {},
   "source": [
    "# Introduction:\n",
    "\n",
    "This material has been used in the past to teach colleagues in our group how to use persistable.\n",
    "\n",
    "The `persistable` package provides users an interface to create a parameterized persistable payload that automatically persists and loads based on the parameters provided.  That means, the payload parameters and are used to define unique artifacts that can be reloaded so complex calculations never have to be repeated.\n",
    "\n",
    "All you need to do is define:\n",
    "1. How the payload is generated\n",
    "2. The parameters\n",
    "3. A working directory (can be local or cloud) for where artifacts should be persisted\n",
    "\n",
    "\n",
    "For more details, read the [docs](https://github.com/DataReply/persistable)."
   ]
  },
  {
   "cell_type": "markdown",
   "metadata": {},
   "source": [
    "# Examples\n",
    "## Gaussian Distributed Dataset\n",
    "### Define `Persistable` class\n",
    "In this example, let's say that our persisted object is generated from a random number generator"
   ]
  },
  {
   "cell_type": "code",
   "execution_count": 1,
   "metadata": {
    "ExecuteTime": {
     "end_time": "2022-07-21T14:55:23.745669Z",
     "start_time": "2022-07-21T14:55:23.579691Z"
    }
   },
   "outputs": [],
   "source": [
    "from dataclasses import dataclass\n",
    "from persistable import PersistableParams\n",
    "\n",
    "\n",
    "@dataclass\n",
    "class GaussianDistributedPointsParams(PersistableParams):\n",
    "    \"\"\" Params for GaussianDistributedPoints.\n",
    "    \n",
    "    Parameters:\n",
    "        n (int): number of gaussian distributed points.\n",
    "        random_state (int): random_state for generator.\n",
    "    \"\"\"\n",
    "    \n",
    "    n: int\n",
    "    random_state: int = 100\n",
    "\n",
    "\n",
    "from persistable import Persistable\n",
    "from numpy.typing import NDArray\n",
    "import numpy as np\n",
    "from typing import Any\n",
    "\n",
    "\n",
    "class GaussianDistributedPointsP(Persistable[NDArray[np.float64], GaussianDistributedPointsParams]):\n",
    "    \"\"\" Persistable payload of Gaussian distributed points.\n",
    "    \n",
    "    \"\"\"\n",
    "\n",
    "    def _generate_payload(self, **untracked_payload_params: Any) -> NDArray[np.float64]:\n",
    "        np.random.seed(self.params.random_state)\n",
    "        return np.random.random(self.params.n)\n"
   ]
  },
  {
   "cell_type": "markdown",
   "metadata": {},
   "source": [
    "### Instantiate and load/generate+persist payload"
   ]
  },
  {
   "cell_type": "code",
   "execution_count": 2,
   "metadata": {
    "ExecuteTime": {
     "end_time": "2022-07-21T14:55:23.764860Z",
     "start_time": "2022-07-21T14:55:23.748094Z"
    }
   },
   "outputs": [
    {
     "name": "stdout",
     "output_type": "stream",
     "text": [
      "2022-07-21 16:55:23,751 - gaussian_distributed_points_p - __init__ - INFO - ---- NEW PERSISTABLE SESSION ---- (/Users/aloosley/Repos/persistable/examples/example-data)\n",
      "2022-07-21 16:55:23,752 - gaussian_distributed_points_p - __init__ - INFO - Payload named gaussian_distributed_points_p; Parameters set to GaussianDistributedPointsParams(n=100, random_state=10)\n",
      "2022-07-21 16:55:23,752 - gaussian_distributed_points_p - generate - INFO - Now generating gaussian_distributed_points_p payload...\n",
      "2022-07-21 16:55:23,755 - gaussian_distributed_points_p - persist - INFO - Successfully persisted payload to gaussian_distributed_points_p(56d54cea068e7beb3ad8c9df70ff8441).persistable (see gaussian_distributed_points_p(56d54cea068e7beb3ad8c9df70ff8441).params.json to view corresponding params).\n"
     ]
    },
    {
     "data": {
      "text/plain": [
       "array([0.77132064, 0.02075195, 0.63364823])"
      ]
     },
     "execution_count": 2,
     "metadata": {},
     "output_type": "execute_result"
    }
   ],
   "source": [
    "from pathlib import Path\n",
    "\n",
    "data_dir = Path('.').absolute() / \"example-data\"\n",
    "params = GaussianDistributedPointsParams(n=100, random_state=10)\n",
    "\n",
    "gaussian_distributed_points_p = GaussianDistributedPointsP(\n",
    "    data_dir=data_dir,\n",
    "    params=params,\n",
    "    tracked_persistable_dependencies=None,\n",
    "    verbose=True\n",
    ")\n",
    "gaussian_distributed_points_p.generate(persist=True)\n",
    "gaussian_distributed_points_p.payload[:3]"
   ]
  },
  {
   "cell_type": "markdown",
   "metadata": {},
   "source": [
    "### Check payload was persisted"
   ]
  },
  {
   "cell_type": "code",
   "execution_count": 3,
   "metadata": {
    "ExecuteTime": {
     "end_time": "2022-07-21T14:55:23.772645Z",
     "start_time": "2022-07-21T14:55:23.767917Z"
    }
   },
   "outputs": [
    {
     "data": {
      "text/plain": [
       "[PosixPath('/Users/aloosley/Repos/persistable/examples/example-data/gaussian_distributed_points_p(56d54cea068e7beb3ad8c9df70ff8441).params.json'),\n",
       " PosixPath('/Users/aloosley/Repos/persistable/examples/example-data/gaussian_distributed_points_p.log'),\n",
       " PosixPath('/Users/aloosley/Repos/persistable/examples/example-data/outlier_estimator_p.log'),\n",
       " PosixPath('/Users/aloosley/Repos/persistable/examples/example-data/gaussian_distributed_points_p(56d54cea068e7beb3ad8c9df70ff8441).persistable')]"
      ]
     },
     "execution_count": 3,
     "metadata": {},
     "output_type": "execute_result"
    }
   ],
   "source": [
    "list(gaussian_distributed_points_p.persist_filepath.parent.glob(\"*\"))"
   ]
  },
  {
   "cell_type": "markdown",
   "metadata": {},
   "source": [
    "### Load payload"
   ]
  },
  {
   "cell_type": "code",
   "execution_count": 4,
   "metadata": {
    "ExecuteTime": {
     "end_time": "2022-07-21T14:55:23.866594Z",
     "start_time": "2022-07-21T14:55:23.834317Z"
    }
   },
   "outputs": [
    {
     "name": "stdout",
     "output_type": "stream",
     "text": [
      "2022-07-21 16:55:23,837 - gaussian_distributed_points_p - __init__ - INFO - ---- NEW PERSISTABLE SESSION ---- (/Users/aloosley/Repos/persistable/examples/example-data)\n",
      "2022-07-21 16:55:23,844 - gaussian_distributed_points_p - __init__ - INFO - Payload named gaussian_distributed_points_p; Parameters set to GaussianDistributedPointsParams(n=100, random_state=10)\n",
      "2022-07-21 16:55:23,854 - gaussian_distributed_points_p - load - INFO - Now loading gaussian_distributed_points_p payload...\n",
      "2022-07-21 16:55:23,857 - gaussian_distributed_points_p - load - INFO - Successfully loaded payload from gaussian_distributed_points_p(56d54cea068e7beb3ad8c9df70ff8441).persistable\n"
     ]
    },
    {
     "data": {
      "text/plain": [
       "array([0.77132064, 0.02075195, 0.63364823])"
      ]
     },
     "execution_count": 4,
     "metadata": {},
     "output_type": "execute_result"
    }
   ],
   "source": [
    "gaussian_distributed_points_p_2 = GaussianDistributedPointsP(\n",
    "    data_dir=data_dir,\n",
    "    params=params,\n",
    "    tracked_persistable_dependencies=None,\n",
    "    verbose=True\n",
    ")\n",
    "gaussian_distributed_points_p_2.load()\n",
    "gaussian_distributed_points_p_2.payload[:3]"
   ]
  },
  {
   "cell_type": "markdown",
   "metadata": {},
   "source": [
    "## Outlier Detection Model"
   ]
  },
  {
   "cell_type": "markdown",
   "metadata": {},
   "source": [
    "### Define `Persistable` class"
   ]
  },
  {
   "cell_type": "code",
   "execution_count": 5,
   "metadata": {
    "ExecuteTime": {
     "end_time": "2022-07-21T14:55:24.080734Z",
     "start_time": "2022-07-21T14:55:24.075088Z"
    }
   },
   "outputs": [],
   "source": [
    "@dataclass\n",
    "class OutlierEstimatorParams(PersistableParams):\n",
    "    \"\"\" Params for OutlierEstimator.\n",
    "    \n",
    "    Parameters:\n",
    "        z_threshold (float): number of standard deviations from the mean for which to consider a point an outlier.\n",
    "    \"\"\"\n",
    "    \n",
    "    z_threshold: int\n",
    "\n",
    "        \n",
    "\n",
    "from typing import Optional, Any, List\n",
    "\n",
    "\n",
    "class OutlierEstimator:\n",
    "    def __init__(self, z_threshold: float) -> None:\n",
    "        self.z_threshold = z_threshold\n",
    "        \n",
    "        self._mean = Optional[float]\n",
    "        self._stdev = Optional[float]\n",
    "    \n",
    "    def fit(self, data: NDArray[np.float64]) -> None:\n",
    "        self._mean = np.mean(data)\n",
    "        self._stdev = np.std(data)\n",
    "        \n",
    "    def transform(self, data: NDArray[np.float64]) -> NDArray[np.float64]:\n",
    "        return np.abs((data - self._mean) / self._stdev) > self.z_threshold\n",
    "        \n",
    "        \n",
    "        \n",
    "class OutlierEstimatorP(Persistable[OutlierEstimator, OutlierEstimatorParams]):\n",
    "    \"\"\" Persistable payload of Gaussian distributed points.\n",
    "    \n",
    "    \"\"\"\n",
    "    def __init__(\n",
    "        self,\n",
    "        data_dir: Path,\n",
    "        params: OutlierEstimatorParams,\n",
    "        *,\n",
    "        data_points_p: GaussianDistributedPointsP,\n",
    "    ) -> None:\n",
    "        super().__init__(data_dir, params, tracked_persistable_dependencies=[data_points_p], verbose=True)\n",
    "        self.data_points_p = data_points_p\n",
    "\n",
    "    def _generate_payload(self, **untracked_payload_params: Any) -> OutlierEstimator:\n",
    "        outlier_estimator = OutlierEstimator(z_threshold = self.params.z_threshold)\n",
    "        outlier_estimator.fit(self.data_points_p.payload)\n",
    "        \n",
    "        return outlier_estimator"
   ]
  },
  {
   "cell_type": "markdown",
   "metadata": {},
   "source": [
    "## Instiate and load/generate+persist"
   ]
  },
  {
   "cell_type": "code",
   "execution_count": 6,
   "metadata": {
    "ExecuteTime": {
     "end_time": "2022-07-21T14:55:24.636902Z",
     "start_time": "2022-07-21T14:55:24.624450Z"
    }
   },
   "outputs": [
    {
     "name": "stdout",
     "output_type": "stream",
     "text": [
      "2022-07-21 16:55:24,627 - outlier_estimator_p - __init__ - INFO - ---- NEW PERSISTABLE SESSION ---- (/Users/aloosley/Repos/persistable/examples/example-data)\n",
      "2022-07-21 16:55:24,628 - outlier_estimator_p - __init__ - INFO - Payload named outlier_estimator_p; Parameters set to OutlierEstimatorParams(z_threshold=1)\n",
      "2022-07-21 16:55:24,629 - outlier_estimator_p - load - INFO - Now loading outlier_estimator_p payload...\n",
      "2022-07-21 16:55:24,630 - outlier_estimator_p - load_generate - INFO - Loading payload failed, continuing to generate payload...\n",
      "2022-07-21 16:55:24,630 - outlier_estimator_p - generate - INFO - Now generating outlier_estimator_p payload...\n",
      "2022-07-21 16:55:24,634 - outlier_estimator_p - persist - INFO - Successfully persisted payload to outlier_estimator_p(9dc0f62720b5fc1b55e386c4996da97a).persistable (see outlier_estimator_p(9dc0f62720b5fc1b55e386c4996da97a).params.json to view corresponding params).\n"
     ]
    }
   ],
   "source": [
    "outlier_estimator_params = OutlierEstimatorParams(z_threshold=1)\n",
    "outlier_estimator_p = OutlierEstimatorP(\n",
    "    data_dir=data_dir, \n",
    "    params=outlier_estimator_params, \n",
    "    data_points_p=gaussian_distributed_points_p,\n",
    ")\n",
    "outlier_estimator_p.load_generate()"
   ]
  }
 ],
 "metadata": {
  "kernelspec": {
   "display_name": "Python 3.10 (persistable)",
   "language": "python",
   "name": "python-persistable"
  },
  "language_info": {
   "codemirror_mode": {
    "name": "ipython",
    "version": 3
   },
   "file_extension": ".py",
   "mimetype": "text/x-python",
   "name": "python",
   "nbconvert_exporter": "python",
   "pygments_lexer": "ipython3",
   "version": "3.10.4"
  },
  "latex_envs": {
   "LaTeX_envs_menu_present": true,
   "bibliofile": "biblio.bib",
   "cite_by": "apalike",
   "current_citInitial": 1,
   "eqLabelWithNumbers": true,
   "eqNumInitial": 1,
   "labels_anchors": false,
   "latex_user_defs": false,
   "report_style_numbering": false,
   "user_envs_cfg": false
  },
  "toc": {
   "base_numbering": 1,
   "nav_menu": {
    "height": "119px",
    "width": "253px"
   },
   "number_sections": true,
   "sideBar": true,
   "skip_h1_title": false,
   "title_cell": "Table of Contents",
   "title_sidebar": "Contents",
   "toc_cell": false,
   "toc_position": {
    "height": "calc(100% - 180px)",
    "left": "10px",
    "top": "150px",
    "width": "288px"
   },
   "toc_section_display": "block",
   "toc_window_display": true
  },
  "varInspector": {
   "cols": {
    "lenName": 16,
    "lenType": 16,
    "lenVar": 40
   },
   "kernels_config": {
    "python": {
     "delete_cmd_postfix": "",
     "delete_cmd_prefix": "del ",
     "library": "var_list.py",
     "varRefreshCmd": "print(var_dic_list())"
    },
    "r": {
     "delete_cmd_postfix": ") ",
     "delete_cmd_prefix": "rm(",
     "library": "var_list.r",
     "varRefreshCmd": "cat(var_dic_list()) "
    }
   },
   "types_to_exclude": [
    "module",
    "function",
    "builtin_function_or_method",
    "instance",
    "_Feature"
   ],
   "window_display": false
  }
 },
 "nbformat": 4,
 "nbformat_minor": 2
}
