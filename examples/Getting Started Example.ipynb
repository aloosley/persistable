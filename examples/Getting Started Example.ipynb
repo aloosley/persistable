{
 "cells": [
  {
   "cell_type": "markdown",
   "metadata": {},
   "source": [
    "# Introduction:\n",
    "\n",
    "This material has been used in the past to teach colleagues in our group how to use persistable.\n",
    "\n",
    "The `persistable` package provides users an interface to create a parameterized persistable payload that automatically persists and loads based on the parameters provided.  That means, the payload parameters and are used to define unique artifacts that can be reloaded so complex calculations never have to be repeated.\n",
    "\n",
    "All you need to do is define:\n",
    "1. How the payload is generated\n",
    "2. The parameters\n",
    "3. A working directory (can be local or cloud) for where artifacts should be persisted\n",
    "\n",
    "\n",
    "For more details, read the [docs](https://github.com/DataReply/persistable)."
   ]
  },
  {
   "cell_type": "markdown",
   "metadata": {},
   "source": [
    "# Examples\n",
    "## Gaussian Distributed Dataset\n",
    "### Define `Persistable` class\n",
    "In this example, let's say that our persisted object is generated from a random number generator"
   ]
  },
  {
   "cell_type": "code",
   "execution_count": 1,
   "metadata": {
    "ExecuteTime": {
     "end_time": "2022-07-13T17:19:50.183453Z",
     "start_time": "2022-07-13T17:19:50.069411Z"
    }
   },
   "outputs": [],
   "source": [
    "from dataclasses import dataclass\n",
    "from persistable import PersistableParams\n",
    "\n",
    "\n",
    "@dataclass\n",
    "class GaussianDistributedPointsParams(PersistableParams):\n",
    "    \"\"\" Params for GaussianDistributedPoints.\n",
    "    \n",
    "    Parameters:\n",
    "        n (int): number of gaussian distributed points.\n",
    "        random_state (int): random_state for generator.\n",
    "    \"\"\"\n",
    "    \n",
    "    n: int\n",
    "    random_state: int = 100\n",
    "\n",
    "\n",
    "from persistable import Persistable\n",
    "from numpy.typing import NDArray\n",
    "import numpy as np\n",
    "from typing import Any\n",
    "\n",
    "\n",
    "class GaussianDistributedPoints(Persistable[NDArray[np.float64], GaussianDistributedPointsParams]):\n",
    "    \"\"\" Persistable payload of Gaussian distributed points.\n",
    "    \n",
    "    \"\"\"\n",
    "\n",
    "    def _generate_payload(self, **untracked_payload_params: Any) -> NDArray[np.float64]:\n",
    "        np.random.seed(self.params.random_state)\n",
    "        return np.random.random(self.params.n)\n"
   ]
  },
  {
   "cell_type": "markdown",
   "metadata": {},
   "source": [
    "### Instantiate and Generate+Persist Payload"
   ]
  },
  {
   "cell_type": "code",
   "execution_count": 2,
   "metadata": {
    "ExecuteTime": {
     "end_time": "2022-07-13T17:19:50.248016Z",
     "start_time": "2022-07-13T17:19:50.204634Z"
    }
   },
   "outputs": [
    {
     "name": "stdout",
     "output_type": "stream",
     "text": [
      "2022-07-13 19:19:50,208 - gaussian_distributed_points - __init__ - INFO - ---- NEW PERSISTABLE SESSION ---- (/Users/aloosley/Alex/Repos/persistable/examples/example-data)\n",
      "2022-07-13 19:19:50,210 - gaussian_distributed_points - __init__ - INFO - Payload named gaussian_distributed_points; Parameters set to GaussianDistributedPointsParams(n=100, random_state=10)\n",
      "2022-07-13 19:19:50,212 - gaussian_distributed_points - generate - INFO - Now generating gaussian_distributed_points payload...\n"
     ]
    },
    {
     "data": {
      "text/plain": [
       "0.771320643266746"
      ]
     },
     "execution_count": 2,
     "metadata": {},
     "output_type": "execute_result"
    }
   ],
   "source": [
    "from pathlib import Path\n",
    "\n",
    "data_dir = Path('.').absolute() / \"example-data\"\n",
    "params = GaussianDistributedPointsParams(n=100, random_state=10)\n",
    "\n",
    "p_gaussian_distributed_points = GaussianDistributedPoints(\n",
    "    data_dir=data_dir,\n",
    "    params=params,\n",
    "    verbose=True\n",
    ")\n",
    "p_gaussian_distributed_points.generate(persist=True)\n",
    "p_gaussian_distributed_points.payload[0]"
   ]
  },
  {
   "cell_type": "markdown",
   "metadata": {},
   "source": [
    "### Check payload was persisted"
   ]
  },
  {
   "cell_type": "code",
   "execution_count": 3,
   "metadata": {
    "ExecuteTime": {
     "end_time": "2022-07-13T17:19:50.543475Z",
     "start_time": "2022-07-13T17:19:50.529014Z"
    }
   },
   "outputs": [
    {
     "data": {
      "text/plain": [
       "[PosixPath('/Users/aloosley/Alex/Repos/persistable/examples/example-data/252716002f49672d2d04557fa94c2804.persistable'),\n",
       " PosixPath('/Users/aloosley/Alex/Repos/persistable/examples/example-data/7b82e45b8774903fdd7d63c36e8b67c9.params.json'),\n",
       " PosixPath('/Users/aloosley/Alex/Repos/persistable/examples/example-data/gauss_dist.log'),\n",
       " PosixPath('/Users/aloosley/Alex/Repos/persistable/examples/example-data/7b82e45b8774903fdd7d63c36e8b67c9.persistable'),\n",
       " PosixPath('/Users/aloosley/Alex/Repos/persistable/examples/example-data/252716002f49672d2d04557fa94c2804.params.json'),\n",
       " PosixPath('/Users/aloosley/Alex/Repos/persistable/examples/example-data/252716002f49672d2d04557fa94c2804.pkl'),\n",
       " PosixPath('/Users/aloosley/Alex/Repos/persistable/examples/example-data/gaussian_distributed_points.log')]"
      ]
     },
     "execution_count": 3,
     "metadata": {},
     "output_type": "execute_result"
    }
   ],
   "source": [
    "list(p_gaussian_distributed_points.persist_filepath.parent.glob(\"*\"))"
   ]
  },
  {
   "cell_type": "markdown",
   "metadata": {},
   "source": [
    "### Load payload"
   ]
  },
  {
   "cell_type": "code",
   "execution_count": 4,
   "metadata": {
    "ExecuteTime": {
     "end_time": "2022-07-13T17:19:51.865449Z",
     "start_time": "2022-07-13T17:19:51.841329Z"
    }
   },
   "outputs": [
    {
     "name": "stdout",
     "output_type": "stream",
     "text": [
      "2022-07-13 19:19:51,849 - gaussian_distributed_points - __init__ - INFO - ---- NEW PERSISTABLE SESSION ---- (/Users/aloosley/Alex/Repos/persistable/examples/example-data)\n",
      "2022-07-13 19:19:51,851 - gaussian_distributed_points - __init__ - INFO - Payload named gaussian_distributed_points; Parameters set to GaussianDistributedPointsParams(n=100, random_state=10)\n",
      "2022-07-13 19:19:51,855 - gaussian_distributed_points - load - INFO - Now loading gaussian_distributed_points payload...\n"
     ]
    },
    {
     "data": {
      "text/plain": [
       "array([0.77132064, 0.02075195, 0.63364823])"
      ]
     },
     "execution_count": 4,
     "metadata": {},
     "output_type": "execute_result"
    }
   ],
   "source": [
    "p_gaussian_distributed_points_2 = GaussianDistributedPoints(\n",
    "    data_dir=data_dir,\n",
    "    params=params,\n",
    "    verbose=True\n",
    ")\n",
    "p_gaussian_distributed_points_2.load()\n",
    "p_gaussian_distributed_points_2.payload[:3]"
   ]
  },
  {
   "cell_type": "markdown",
   "metadata": {},
   "source": [
    "## Outlier Detection Model"
   ]
  },
  {
   "cell_type": "markdown",
   "metadata": {},
   "source": [
    "### Define `Persistable` class"
   ]
  },
  {
   "cell_type": "code",
   "execution_count": 19,
   "metadata": {
    "ExecuteTime": {
     "end_time": "2022-07-13T17:22:32.854051Z",
     "start_time": "2022-07-13T17:22:32.831904Z"
    }
   },
   "outputs": [],
   "source": [
    "@dataclass\n",
    "class OutlierEstimatorParams(PersistableParams):\n",
    "    \"\"\" Params for OutlierEstimator.\n",
    "    \n",
    "    Parameters:\n",
    "        z_threshold (float): number of standard deviations from the mean for which to consider a point an outlier.\n",
    "    \"\"\"\n",
    "    \n",
    "    z_threshold: int\n",
    "\n",
    "        \n",
    "\n",
    "from typing import Optional, Any, List\n",
    "\n",
    "\n",
    "class OutlierEstimator:\n",
    "    def __init__(self, z_threshold: float) -> None:\n",
    "        self.z_threshold = z_threshold\n",
    "        \n",
    "        self._mean = Optional[float]\n",
    "        self._stdev = Optional[float]\n",
    "    \n",
    "    def fit(self, data: NDArray[np.float64]) -> None:\n",
    "        self._mean = np.mean(data)\n",
    "        self._stdev = np.std(data)\n",
    "        \n",
    "    def transform(self, data: NDArray[np.float64]) -> NDArray[np.float64]:\n",
    "        return np.abs((data - self._mean) / self._stdev) > self.z_threshold\n",
    "        \n",
    "        \n",
    "        \n",
    "class OutlierEstimatorPersistable(Persistable[OutlierEstimator, OutlierEstimatorParams]):\n",
    "    \"\"\" Persistable payload of Gaussian distributed points.\n",
    "    \n",
    "    \"\"\"\n",
    "    def __init__(\n",
    "        self,\n",
    "        data_dir: Path,\n",
    "        params: OutlierEstimatorParams,\n",
    "        *,\n",
    "        fit_data_persistable: GaussianDistributedPoints,\n",
    "    ) -> None:\n",
    "        super().__init__(data_dir, params, verbose=True)\n",
    "        self.fit_data_persistable = fit_data_persistable\n",
    "        \n",
    "    @property\n",
    "    def from_persistble_objs(self) -> List[Persistable[Any, Any]]:\n",
    "        return [self.fit_data_persistable]\n",
    "\n",
    "    def _generate_payload(self, **untracked_payload_params: Any) -> OutlierEstimator:\n",
    "        outlier_estimator = OutlierEstimator(z_threshold = self.params.z_threshold)\n",
    "        outlier_estimator.fit(self.fit_data_persistable.payload)"
   ]
  },
  {
   "cell_type": "code",
   "execution_count": 20,
   "metadata": {
    "ExecuteTime": {
     "end_time": "2022-07-13T17:22:33.603877Z",
     "start_time": "2022-07-13T17:22:33.474068Z"
    }
   },
   "outputs": [
    {
     "name": "stdout",
     "output_type": "stream",
     "text": [
      "2022-07-13 19:22:33,479 - outlier_estimator_persistable - __init__ - INFO - ---- NEW PERSISTABLE SESSION ---- (/Users/aloosley/Alex/Repos/persistable/examples/example-data)\n",
      "2022-07-13 19:22:33,485 - outlier_estimator_persistable - __init__ - INFO - Payload named outlier_estimator_persistable; Parameters set to OutlierEstimatorParams(z_threshold=1)\n",
      "2022-07-13 19:22:33,488 - outlier_estimator_persistable - load - INFO - Now loading outlier_estimator_persistable payload...\n",
      "2022-07-13 19:22:33,489 - outlier_estimator_persistable - load_generate - INFO - Loading payload failed, continuing to generate payload...\n",
      "2022-07-13 19:22:33,491 - outlier_estimator_persistable - generate - INFO - Now generating outlier_estimator_persistable payload...\n"
     ]
    },
    {
     "ename": "ValueError",
     "evalue": "Payload has not been generated.",
     "output_type": "error",
     "traceback": [
      "\u001b[0;31m---------------------------------------------------------------------------\u001b[0m",
      "\u001b[0;31mFileNotFoundError\u001b[0m                         Traceback (most recent call last)",
      "File \u001b[0;32m~/Alex/Repos/persistable/persistable/base.py:147\u001b[0m, in \u001b[0;36mPersistable.load_generate\u001b[0;34m(self, **untracked_payload_params)\u001b[0m\n\u001b[1;32m    146\u001b[0m \u001b[38;5;28;01mtry\u001b[39;00m:\n\u001b[0;32m--> 147\u001b[0m     \u001b[38;5;28;43mself\u001b[39;49m\u001b[38;5;241;43m.\u001b[39;49m\u001b[43mload\u001b[49m\u001b[43m(\u001b[49m\u001b[38;5;241;43m*\u001b[39;49m\u001b[38;5;241;43m*\u001b[39;49m\u001b[43muntracked_payload_params\u001b[49m\u001b[43m)\u001b[49m\n\u001b[1;32m    148\u001b[0m \u001b[38;5;28;01mexcept\u001b[39;00m \u001b[38;5;167;01mFileNotFoundError\u001b[39;00m:\n",
      "File \u001b[0;32m~/Alex/Repos/persistable/persistable/base.py:135\u001b[0m, in \u001b[0;36mPersistable.load\u001b[0;34m(self, **untracked_payload_params)\u001b[0m\n\u001b[1;32m    134\u001b[0m \u001b[38;5;66;03m# ToDo - add find similar file functionality\u001b[39;00m\n\u001b[0;32m--> 135\u001b[0m \u001b[38;5;28mself\u001b[39m\u001b[38;5;241m.\u001b[39m_payload \u001b[38;5;241m=\u001b[39m \u001b[38;5;28;43mself\u001b[39;49m\u001b[38;5;241;43m.\u001b[39;49m\u001b[43mpayload_io\u001b[49m\u001b[38;5;241;43m.\u001b[39;49m\u001b[43mload\u001b[49m\u001b[43m(\u001b[49m\u001b[38;5;28;43mself\u001b[39;49m\u001b[38;5;241;43m.\u001b[39;49m\u001b[43mpersist_filepath\u001b[49m\u001b[38;5;241;43m.\u001b[39;49m\u001b[43mwith_suffix\u001b[49m\u001b[43m(\u001b[49m\u001b[38;5;28;43mself\u001b[39;49m\u001b[38;5;241;43m.\u001b[39;49m\u001b[43mpayload_file_suffix\u001b[49m\u001b[43m)\u001b[49m\u001b[43m)\u001b[49m\n\u001b[1;32m    136\u001b[0m \u001b[38;5;28mself\u001b[39m\u001b[38;5;241m.\u001b[39m_post_load()\n",
      "File \u001b[0;32m~/Alex/Repos/persistable/persistable/io.py:24\u001b[0m, in \u001b[0;36mFileIO.load\u001b[0;34m(self, filepath, **kwargs)\u001b[0m\n\u001b[1;32m     23\u001b[0m logger\u001b[38;5;241m.\u001b[39mdebug(\u001b[38;5;124m\"\u001b[39m\u001b[38;5;124mload `\u001b[39m\u001b[38;5;132;01m%s\u001b[39;00m\u001b[38;5;124m`\u001b[39m\u001b[38;5;124m\"\u001b[39m, filepath)\n\u001b[0;32m---> 24\u001b[0m \u001b[38;5;28;01mreturn\u001b[39;00m \u001b[38;5;28;43mself\u001b[39;49m\u001b[38;5;241;43m.\u001b[39;49m\u001b[43m_load\u001b[49m\u001b[43m(\u001b[49m\u001b[43mfilepath\u001b[49m\u001b[38;5;241;43m=\u001b[39;49m\u001b[43mfilepath\u001b[49m\u001b[43m,\u001b[49m\u001b[43m \u001b[49m\u001b[38;5;241;43m*\u001b[39;49m\u001b[38;5;241;43m*\u001b[39;49m\u001b[43mkwargs\u001b[49m\u001b[43m)\u001b[49m\n",
      "File \u001b[0;32m~/Alex/Repos/persistable/persistable/io.py:46\u001b[0m, in \u001b[0;36mPickleFileIO._load\u001b[0;34m(self, filepath, **kwargs)\u001b[0m\n\u001b[1;32m     45\u001b[0m \u001b[38;5;28;01mdef\u001b[39;00m \u001b[38;5;21m_load\u001b[39m(\u001b[38;5;28mself\u001b[39m, filepath: Path, \u001b[38;5;241m*\u001b[39m\u001b[38;5;241m*\u001b[39mkwargs: Any) \u001b[38;5;241m-\u001b[39m\u001b[38;5;241m>\u001b[39m PayloadTypeT:\n\u001b[0;32m---> 46\u001b[0m     \u001b[38;5;28;01mwith\u001b[39;00m \u001b[43mfilepath\u001b[49m\u001b[38;5;241;43m.\u001b[39;49m\u001b[43mopen\u001b[49m\u001b[43m(\u001b[49m\u001b[38;5;124;43m\"\u001b[39;49m\u001b[38;5;124;43mrb\u001b[39;49m\u001b[38;5;124;43m\"\u001b[39;49m\u001b[43m)\u001b[49m \u001b[38;5;28;01mas\u001b[39;00m file_handler:\n\u001b[1;32m     47\u001b[0m         \u001b[38;5;28;01mreturn\u001b[39;00m cast(PayloadTypeT, pickle\u001b[38;5;241m.\u001b[39mload(file\u001b[38;5;241m=\u001b[39mfile_handler, \u001b[38;5;241m*\u001b[39m\u001b[38;5;241m*\u001b[39mkwargs))\n",
      "File \u001b[0;32m~/miniconda3/envs/persistable/lib/python3.10/pathlib.py:1117\u001b[0m, in \u001b[0;36mPath.open\u001b[0;34m(self, mode, buffering, encoding, errors, newline)\u001b[0m\n\u001b[1;32m   1116\u001b[0m     encoding \u001b[38;5;241m=\u001b[39m io\u001b[38;5;241m.\u001b[39mtext_encoding(encoding)\n\u001b[0;32m-> 1117\u001b[0m \u001b[38;5;28;01mreturn\u001b[39;00m \u001b[38;5;28;43mself\u001b[39;49m\u001b[38;5;241;43m.\u001b[39;49m\u001b[43m_accessor\u001b[49m\u001b[38;5;241;43m.\u001b[39;49m\u001b[43mopen\u001b[49m\u001b[43m(\u001b[49m\u001b[38;5;28;43mself\u001b[39;49m\u001b[43m,\u001b[49m\u001b[43m \u001b[49m\u001b[43mmode\u001b[49m\u001b[43m,\u001b[49m\u001b[43m \u001b[49m\u001b[43mbuffering\u001b[49m\u001b[43m,\u001b[49m\u001b[43m \u001b[49m\u001b[43mencoding\u001b[49m\u001b[43m,\u001b[49m\u001b[43m \u001b[49m\u001b[43merrors\u001b[49m\u001b[43m,\u001b[49m\n\u001b[1;32m   1118\u001b[0m \u001b[43m                           \u001b[49m\u001b[43mnewline\u001b[49m\u001b[43m)\u001b[49m\n",
      "\u001b[0;31mFileNotFoundError\u001b[0m: [Errno 2] No such file or directory: '/Users/aloosley/Alex/Repos/persistable/examples/example-data/9d1957bebd1697670064d11818140a26.persistable'",
      "\nDuring handling of the above exception, another exception occurred:\n",
      "\u001b[0;31mValueError\u001b[0m                                Traceback (most recent call last)",
      "Input \u001b[0;32mIn [20]\u001b[0m, in \u001b[0;36m<cell line: 7>\u001b[0;34m()\u001b[0m\n\u001b[1;32m      1\u001b[0m outlier_estimator_params \u001b[38;5;241m=\u001b[39m OutlierEstimatorParams(z_threshold\u001b[38;5;241m=\u001b[39m\u001b[38;5;241m1\u001b[39m)\n\u001b[1;32m      2\u001b[0m outlier_estimator_p \u001b[38;5;241m=\u001b[39m OutlierEstimatorPersistable(\n\u001b[1;32m      3\u001b[0m     data_dir\u001b[38;5;241m=\u001b[39mdata_dir, \n\u001b[1;32m      4\u001b[0m     params\u001b[38;5;241m=\u001b[39moutlier_estimator_params, \n\u001b[1;32m      5\u001b[0m     fit_data_persistable\u001b[38;5;241m=\u001b[39mp_gaussian_distributed_points,\n\u001b[1;32m      6\u001b[0m )\n\u001b[0;32m----> 7\u001b[0m \u001b[43moutlier_estimator_p\u001b[49m\u001b[38;5;241;43m.\u001b[39;49m\u001b[43mpayload\u001b[49m\n",
      "File \u001b[0;32m~/Alex/Repos/persistable/persistable/base.py:155\u001b[0m, in \u001b[0;36mPersistable.payload\u001b[0;34m(self)\u001b[0m\n\u001b[1;32m    152\u001b[0m \u001b[38;5;129m@property\u001b[39m\n\u001b[1;32m    153\u001b[0m \u001b[38;5;28;01mdef\u001b[39;00m \u001b[38;5;21mpayload\u001b[39m(\u001b[38;5;28mself\u001b[39m) \u001b[38;5;241m-\u001b[39m\u001b[38;5;241m>\u001b[39m PayloadTypeT:\n\u001b[1;32m    154\u001b[0m     \u001b[38;5;28;01mif\u001b[39;00m \u001b[38;5;28mself\u001b[39m\u001b[38;5;241m.\u001b[39m_payload \u001b[38;5;129;01mis\u001b[39;00m \u001b[38;5;28;01mNone\u001b[39;00m:\n\u001b[0;32m--> 155\u001b[0m         \u001b[38;5;28;43mself\u001b[39;49m\u001b[38;5;241;43m.\u001b[39;49m\u001b[43mload_generate\u001b[49m\u001b[43m(\u001b[49m\u001b[43m)\u001b[49m\n\u001b[1;32m    156\u001b[0m     \u001b[38;5;28;01mreturn\u001b[39;00m cast(PayloadTypeT, \u001b[38;5;28mself\u001b[39m\u001b[38;5;241m.\u001b[39m_payload)\n",
      "File \u001b[0;32m~/Alex/Repos/persistable/persistable/base.py:150\u001b[0m, in \u001b[0;36mPersistable.load_generate\u001b[0;34m(self, **untracked_payload_params)\u001b[0m\n\u001b[1;32m    148\u001b[0m \u001b[38;5;28;01mexcept\u001b[39;00m \u001b[38;5;167;01mFileNotFoundError\u001b[39;00m:\n\u001b[1;32m    149\u001b[0m     \u001b[38;5;28mself\u001b[39m\u001b[38;5;241m.\u001b[39mlogger\u001b[38;5;241m.\u001b[39minfo(\u001b[38;5;124m\"\u001b[39m\u001b[38;5;124mLoading payload failed, continuing to generate payload...\u001b[39m\u001b[38;5;124m\"\u001b[39m)\n\u001b[0;32m--> 150\u001b[0m     \u001b[38;5;28;43mself\u001b[39;49m\u001b[38;5;241;43m.\u001b[39;49m\u001b[43mgenerate\u001b[49m\u001b[43m(\u001b[49m\u001b[38;5;241;43m*\u001b[39;49m\u001b[38;5;241;43m*\u001b[39;49m\u001b[43muntracked_payload_params\u001b[49m\u001b[43m)\u001b[49m\n",
      "File \u001b[0;32m~/Alex/Repos/persistable/persistable/base.py:102\u001b[0m, in \u001b[0;36mPersistable.generate\u001b[0;34m(self, persist, **untracked_payload_params)\u001b[0m\n\u001b[1;32m    100\u001b[0m \u001b[38;5;28mself\u001b[39m\u001b[38;5;241m.\u001b[39m_payload \u001b[38;5;241m=\u001b[39m \u001b[38;5;28mself\u001b[39m\u001b[38;5;241m.\u001b[39m_generate_payload(\u001b[38;5;241m*\u001b[39m\u001b[38;5;241m*\u001b[39muntracked_payload_params)\n\u001b[1;32m    101\u001b[0m \u001b[38;5;28;01mif\u001b[39;00m persist:\n\u001b[0;32m--> 102\u001b[0m     \u001b[38;5;28;43mself\u001b[39;49m\u001b[38;5;241;43m.\u001b[39;49m\u001b[43mpersist\u001b[49m\u001b[43m(\u001b[49m\u001b[43m)\u001b[49m\n",
      "File \u001b[0;32m~/Alex/Repos/persistable/persistable/base.py:109\u001b[0m, in \u001b[0;36mPersistable.persist\u001b[0;34m(self)\u001b[0m\n\u001b[1;32m    106\u001b[0m \u001b[38;5;124;03m\"\"\"Persist both payload and parameters.\"\"\"\u001b[39;00m\n\u001b[1;32m    108\u001b[0m \u001b[38;5;28;01mif\u001b[39;00m \u001b[38;5;28mself\u001b[39m\u001b[38;5;241m.\u001b[39m_payload \u001b[38;5;129;01mis\u001b[39;00m \u001b[38;5;28;01mNone\u001b[39;00m:\n\u001b[0;32m--> 109\u001b[0m     \u001b[38;5;28;01mraise\u001b[39;00m \u001b[38;5;167;01mValueError\u001b[39;00m(\u001b[38;5;124m\"\u001b[39m\u001b[38;5;124mPayload has not been generated.\u001b[39m\u001b[38;5;124m\"\u001b[39m)\n\u001b[1;32m    111\u001b[0m \u001b[38;5;28mself\u001b[39m\u001b[38;5;241m.\u001b[39mpayload_io\u001b[38;5;241m.\u001b[39msave(\n\u001b[1;32m    112\u001b[0m     payload\u001b[38;5;241m=\u001b[39m\u001b[38;5;28mself\u001b[39m\u001b[38;5;241m.\u001b[39m_payload,\n\u001b[1;32m    113\u001b[0m     filepath\u001b[38;5;241m=\u001b[39m\u001b[38;5;28mself\u001b[39m\u001b[38;5;241m.\u001b[39mpersist_filepath\u001b[38;5;241m.\u001b[39mwith_suffix(\u001b[38;5;28mself\u001b[39m\u001b[38;5;241m.\u001b[39mpayload_file_suffix),\n\u001b[1;32m    114\u001b[0m )\n\u001b[1;32m    115\u001b[0m \u001b[38;5;28;01mwith\u001b[39;00m \u001b[38;5;28mself\u001b[39m\u001b[38;5;241m.\u001b[39mpersist_filepath\u001b[38;5;241m.\u001b[39mwith_suffix(\u001b[38;5;124m\"\u001b[39m\u001b[38;5;124m.params.json\u001b[39m\u001b[38;5;124m\"\u001b[39m)\u001b[38;5;241m.\u001b[39mopen(\u001b[38;5;124m\"\u001b[39m\u001b[38;5;124mw\u001b[39m\u001b[38;5;124m\"\u001b[39m) \u001b[38;5;28;01mas\u001b[39;00m params_file_handler:\n",
      "\u001b[0;31mValueError\u001b[0m: Payload has not been generated."
     ]
    }
   ],
   "source": [
    "outlier_estimator_params = OutlierEstimatorParams(z_threshold=1)\n",
    "outlier_estimator_p = OutlierEstimatorPersistable(\n",
    "    data_dir=data_dir, \n",
    "    params=outlier_estimator_params, \n",
    "    fit_data_persistable=p_gaussian_distributed_points,\n",
    ")\n",
    "outlier_estimator_p.payload"
   ]
  },
  {
   "cell_type": "code",
   "execution_count": null,
   "metadata": {},
   "outputs": [],
   "source": []
  }
 ],
 "metadata": {
  "kernelspec": {
   "display_name": "Python 3.10 (persistable)",
   "language": "python",
   "name": "persistable"
  },
  "language_info": {
   "codemirror_mode": {
    "name": "ipython",
    "version": 3
   },
   "file_extension": ".py",
   "mimetype": "text/x-python",
   "name": "python",
   "nbconvert_exporter": "python",
   "pygments_lexer": "ipython3",
   "version": "3.10.4"
  },
  "latex_envs": {
   "LaTeX_envs_menu_present": true,
   "bibliofile": "biblio.bib",
   "cite_by": "apalike",
   "current_citInitial": 1,
   "eqLabelWithNumbers": true,
   "eqNumInitial": 1,
   "labels_anchors": false,
   "latex_user_defs": false,
   "report_style_numbering": false,
   "user_envs_cfg": false
  },
  "toc": {
   "base_numbering": 1,
   "nav_menu": {
    "height": "119px",
    "width": "253px"
   },
   "number_sections": true,
   "sideBar": true,
   "skip_h1_title": false,
   "title_cell": "Table of Contents",
   "title_sidebar": "Contents",
   "toc_cell": false,
   "toc_position": {
    "height": "calc(100% - 180px)",
    "left": "10px",
    "top": "150px",
    "width": "288px"
   },
   "toc_section_display": "block",
   "toc_window_display": true
  },
  "varInspector": {
   "cols": {
    "lenName": 16,
    "lenType": 16,
    "lenVar": 40
   },
   "kernels_config": {
    "python": {
     "delete_cmd_postfix": "",
     "delete_cmd_prefix": "del ",
     "library": "var_list.py",
     "varRefreshCmd": "print(var_dic_list())"
    },
    "r": {
     "delete_cmd_postfix": ") ",
     "delete_cmd_prefix": "rm(",
     "library": "var_list.r",
     "varRefreshCmd": "cat(var_dic_list()) "
    }
   },
   "types_to_exclude": [
    "module",
    "function",
    "builtin_function_or_method",
    "instance",
    "_Feature"
   ],
   "window_display": false
  }
 },
 "nbformat": 4,
 "nbformat_minor": 2
}
